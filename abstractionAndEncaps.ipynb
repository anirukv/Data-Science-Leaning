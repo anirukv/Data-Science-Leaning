{
 "cells": [
  {
   "cell_type": "code",
   "execution_count": 24,
   "id": "37960dff",
   "metadata": {},
   "outputs": [],
   "source": [
    "class test:\n",
    "    def __init__(s,a,b,c,d):\n",
    "        s._a=a #private variable\n",
    "        s.b=b\n",
    "        s.c=c\n",
    "        s.d=d\n",
    "    def test_custome(s,v):\n",
    "        return v-s.a\n",
    "    def __str__(s):\n",
    "        return 'this is a test code'"
   ]
  },
  {
   "cell_type": "code",
   "execution_count": 25,
   "id": "10f8b59f",
   "metadata": {},
   "outputs": [],
   "source": [
    "o=test(4,5,6,7)"
   ]
  },
  {
   "cell_type": "code",
   "execution_count": 26,
   "id": "4b54c29a",
   "metadata": {},
   "outputs": [
    {
     "ename": "AttributeError",
     "evalue": "'test' object has no attribute 'a'",
     "output_type": "error",
     "traceback": [
      "\u001b[1;31m---------------------------------------------------------------------------\u001b[0m",
      "\u001b[1;31mAttributeError\u001b[0m                            Traceback (most recent call last)",
      "\u001b[1;32m<ipython-input-26-34e92870a5a2>\u001b[0m in \u001b[0;36m<module>\u001b[1;34m\u001b[0m\n\u001b[1;32m----> 1\u001b[1;33m \u001b[0mo\u001b[0m\u001b[1;33m.\u001b[0m\u001b[0mtest_custome\u001b[0m\u001b[1;33m(\u001b[0m\u001b[1;36m7\u001b[0m\u001b[1;33m)\u001b[0m\u001b[1;33m\u001b[0m\u001b[1;33m\u001b[0m\u001b[0m\n\u001b[0m",
      "\u001b[1;32m<ipython-input-24-2148063d056d>\u001b[0m in \u001b[0;36mtest_custome\u001b[1;34m(s, v)\u001b[0m\n\u001b[0;32m      6\u001b[0m         \u001b[0ms\u001b[0m\u001b[1;33m.\u001b[0m\u001b[0md\u001b[0m\u001b[1;33m=\u001b[0m\u001b[0md\u001b[0m\u001b[1;33m\u001b[0m\u001b[1;33m\u001b[0m\u001b[0m\n\u001b[0;32m      7\u001b[0m     \u001b[1;32mdef\u001b[0m \u001b[0mtest_custome\u001b[0m\u001b[1;33m(\u001b[0m\u001b[0ms\u001b[0m\u001b[1;33m,\u001b[0m\u001b[0mv\u001b[0m\u001b[1;33m)\u001b[0m\u001b[1;33m:\u001b[0m\u001b[1;33m\u001b[0m\u001b[1;33m\u001b[0m\u001b[0m\n\u001b[1;32m----> 8\u001b[1;33m         \u001b[1;32mreturn\u001b[0m \u001b[0mv\u001b[0m\u001b[1;33m-\u001b[0m\u001b[0ms\u001b[0m\u001b[1;33m.\u001b[0m\u001b[0ma\u001b[0m\u001b[1;33m\u001b[0m\u001b[1;33m\u001b[0m\u001b[0m\n\u001b[0m\u001b[0;32m      9\u001b[0m     \u001b[1;32mdef\u001b[0m \u001b[0m__str__\u001b[0m\u001b[1;33m(\u001b[0m\u001b[0ms\u001b[0m\u001b[1;33m)\u001b[0m\u001b[1;33m:\u001b[0m\u001b[1;33m\u001b[0m\u001b[1;33m\u001b[0m\u001b[0m\n\u001b[0;32m     10\u001b[0m         \u001b[1;32mreturn\u001b[0m \u001b[1;34m'this is a test code'\u001b[0m\u001b[1;33m\u001b[0m\u001b[1;33m\u001b[0m\u001b[0m\n",
      "\u001b[1;31mAttributeError\u001b[0m: 'test' object has no attribute 'a'"
     ]
    }
   ],
   "source": [
    "o.test_custome(7)"
   ]
  },
  {
   "cell_type": "code",
   "execution_count": 27,
   "id": "4cfd8022",
   "metadata": {},
   "outputs": [
    {
     "name": "stdout",
     "output_type": "stream",
     "text": [
      "this is a test code\n"
     ]
    }
   ],
   "source": [
    "print(o)"
   ]
  },
  {
   "cell_type": "code",
   "execution_count": 28,
   "id": "938c105a",
   "metadata": {},
   "outputs": [
    {
     "data": {
      "text/plain": [
       "4"
      ]
     },
     "execution_count": 28,
     "metadata": {},
     "output_type": "execute_result"
    }
   ],
   "source": [
    "o._a"
   ]
  },
  {
   "cell_type": "code",
   "execution_count": 31,
   "id": "dcde68be",
   "metadata": {},
   "outputs": [],
   "source": [
    "class test:\n",
    "    def __init__(s,a,b,c,d):\n",
    "        s.__a=a #private variable\n",
    "        s.b=b\n",
    "        s.c=c\n",
    "        s.d=d\n",
    "    def test_custome(s,v):\n",
    "        return v-s.a\n",
    "    def __str__(s):\n",
    "        return 'this is a test code'"
   ]
  },
  {
   "cell_type": "code",
   "execution_count": 32,
   "id": "14de988b",
   "metadata": {},
   "outputs": [],
   "source": [
    "o=test(4,5,6,7)"
   ]
  },
  {
   "cell_type": "code",
   "execution_count": 33,
   "id": "442d3acc",
   "metadata": {},
   "outputs": [
    {
     "ename": "AttributeError",
     "evalue": "'test' object has no attribute '__a'",
     "output_type": "error",
     "traceback": [
      "\u001b[1;31m---------------------------------------------------------------------------\u001b[0m",
      "\u001b[1;31mAttributeError\u001b[0m                            Traceback (most recent call last)",
      "\u001b[1;32m<ipython-input-33-1e42657c998a>\u001b[0m in \u001b[0;36m<module>\u001b[1;34m\u001b[0m\n\u001b[1;32m----> 1\u001b[1;33m \u001b[0mo\u001b[0m\u001b[1;33m.\u001b[0m\u001b[0m__a\u001b[0m\u001b[1;33m\u001b[0m\u001b[1;33m\u001b[0m\u001b[0m\n\u001b[0m",
      "\u001b[1;31mAttributeError\u001b[0m: 'test' object has no attribute '__a'"
     ]
    }
   ],
   "source": [
    "o.__a #since it is a private,cannot be called"
   ]
  },
  {
   "cell_type": "code",
   "execution_count": 36,
   "id": "bc91d561",
   "metadata": {},
   "outputs": [
    {
     "data": {
      "text/plain": [
       "4"
      ]
     },
     "execution_count": 36,
     "metadata": {},
     "output_type": "execute_result"
    }
   ],
   "source": [
    "o._test__a #if u want to call a private, call like this"
   ]
  },
  {
   "cell_type": "markdown",
   "id": "cdb32549",
   "metadata": {},
   "source": [
    "INHERITANCE"
   ]
  },
  {
   "cell_type": "code",
   "execution_count": 46,
   "id": "f840bd7a",
   "metadata": {},
   "outputs": [],
   "source": [
    "class test:\n",
    "    def __init__(s,a,b,c,d):\n",
    "        s.a=a #protected variable\n",
    "        s.b=b\n",
    "        s.c=c\n",
    "        s.d=d\n",
    "    def test_custome(s,v):\n",
    "        return v-s.a\n",
    "    def __str__(s):\n",
    "        return 'this is a test code'"
   ]
  },
  {
   "cell_type": "code",
   "execution_count": 47,
   "id": "93961044",
   "metadata": {},
   "outputs": [
    {
     "data": {
      "text/plain": [
       "6"
      ]
     },
     "execution_count": 47,
     "metadata": {},
     "output_type": "execute_result"
    }
   ],
   "source": [
    "class test1(test):\n",
    "    def __init__(self, j , *args):\n",
    "        super(test1,self).__init__(*args)\n",
    "        self.j=j\n",
    "m=test1(4,5,6,7,8)\n",
    "m.b"
   ]
  },
  {
   "cell_type": "code",
   "execution_count": 48,
   "id": "c895472a",
   "metadata": {},
   "outputs": [
    {
     "data": {
      "text/plain": [
       "8"
      ]
     },
     "execution_count": 48,
     "metadata": {},
     "output_type": "execute_result"
    }
   ],
   "source": [
    "m.d"
   ]
  },
  {
   "cell_type": "code",
   "execution_count": 49,
   "id": "df185428",
   "metadata": {},
   "outputs": [
    {
     "data": {
      "text/plain": [
       "-2"
      ]
     },
     "execution_count": 49,
     "metadata": {},
     "output_type": "execute_result"
    }
   ],
   "source": [
    "m.test_custome(3)"
   ]
  },
  {
   "cell_type": "markdown",
   "id": "144562ae",
   "metadata": {},
   "source": [
    "TASK"
   ]
  },
  {
   "cell_type": "code",
   "execution_count": 73,
   "id": "1d3570b4",
   "metadata": {},
   "outputs": [],
   "source": [
    "class test:\n",
    "    #def __init__(self, a, b, c, d):\n",
    "    #    self.a=a\n",
    "    #    self.b=b\n",
    "    #    self.c=c\n",
    "    #    self.d=d\n",
    "    def a(self):\n",
    "        print('this is test class diff.')\n",
    "t=test()\n"
   ]
  },
  {
   "cell_type": "code",
   "execution_count": 74,
   "id": "9ecd49ac",
   "metadata": {},
   "outputs": [],
   "source": [
    "class test1:\n",
    "    #def __init__(self, w, x, y, z):\n",
    "    #    self.w=w\n",
    "    #    self.x=x\n",
    "    #    self.y=y\n",
    "    #    self.z=z\n",
    "    def a(self):\n",
    "        print('this is test1 class diff.')\n",
    "t1=test1()\n",
    "    "
   ]
  },
  {
   "cell_type": "code",
   "execution_count": 75,
   "id": "a7f3fce7",
   "metadata": {},
   "outputs": [],
   "source": [
    "class test2(test,test1):\n",
    "    #def __init__(self,j,*args):\n",
    "    #    self.j=j\n",
    "    def a(self):\n",
    "        test.a(self)\n",
    "        test1.a(self)"
   ]
  },
  {
   "cell_type": "code",
   "execution_count": 76,
   "id": "90c7f48c",
   "metadata": {},
   "outputs": [],
   "source": [
    "t2=test2()"
   ]
  },
  {
   "cell_type": "code",
   "execution_count": 77,
   "id": "1fdaebe3",
   "metadata": {},
   "outputs": [
    {
     "name": "stdout",
     "output_type": "stream",
     "text": [
      "this is test class diff.\n",
      "this is test1 class diff.\n"
     ]
    }
   ],
   "source": [
    "t2.a()"
   ]
  },
  {
   "cell_type": "code",
   "execution_count": null,
   "id": "b93e1381",
   "metadata": {},
   "outputs": [],
   "source": []
  }
 ],
 "metadata": {
  "kernelspec": {
   "display_name": "Python 3",
   "language": "python",
   "name": "python3"
  },
  "language_info": {
   "codemirror_mode": {
    "name": "ipython",
    "version": 3
   },
   "file_extension": ".py",
   "mimetype": "text/x-python",
   "name": "python",
   "nbconvert_exporter": "python",
   "pygments_lexer": "ipython3",
   "version": "3.8.8"
  }
 },
 "nbformat": 4,
 "nbformat_minor": 5
}
